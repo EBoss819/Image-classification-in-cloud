{
 "cells": [
  {
   "cell_type": "code",
   "execution_count": 3,
   "id": "f7cb7998",
   "metadata": {},
   "outputs": [],
   "source": [
    "import pandas as pd\n",
    "import numpy as np\n",
    "import io\n",
    "import os\n",
    "import tensorflow as tf\n",
    "from PIL import Image\n",
    "from tensorflow.keras.applications.mobilenet_v2 import MobileNetV2, preprocess_input\n",
    "from tensorflow.keras.preprocessing.image import img_to_array\n",
    "from tensorflow.keras import Model\n",
    "from pyspark.sql.functions import col, pandas_udf, PandasUDFType, element_at, split"
   ]
  },
  {
   "cell_type": "code",
   "execution_count": 4,
   "id": "1c920f34",
   "metadata": {},
   "outputs": [],
   "source": [
    "#spark = (SparkSession\n",
    "#             .builder\n",
    "#             .appName('P8')\n",
    "#             .master('local') # à changer, voir les options possibles\n",
    "#             .config(\"spark.sql.parquet.writeLegacyFormat\", 'true')\n",
    "#             .getOrCreate()\n",
    "#)"
   ]
  },
  {
   "cell_type": "code",
   "execution_count": 16,
   "id": "ffeb6c95",
   "metadata": {},
   "outputs": [],
   "source": [
    "#sc = spark.sparkContext"
   ]
  },
  {
   "cell_type": "code",
   "execution_count": 11,
   "id": "3c814780",
   "metadata": {},
   "outputs": [
    {
     "name": "stdout",
     "output_type": "stream",
     "text": [
      "PATH:        ./data\n",
      "PATH_Data:   ./data/Test1\n",
      "PATH_Result: ./data/Results\n"
     ]
    }
   ],
   "source": [
    "PATH = 's3://ericbossutp8fruits'\n",
    "#PATH = './data'\n",
    "PATH_Data = PATH+'/Test1'\n",
    "PATH_Result = PATH+'/Results'\n",
    "print('PATH:        '+\\\n",
    "      PATH+'\\nPATH_Data:   '+\\\n",
    "      PATH_Data+'\\nPATH_Result: '+PATH_Result)"
   ]
  },
  {
   "cell_type": "code",
   "execution_count": 12,
   "id": "baba89d4",
   "metadata": {},
   "outputs": [],
   "source": [
    "images = spark.read.format(\"binaryFile\") \\\n",
    "  .option(\"pathGlobFilter\", \"*.jpg\") \\\n",
    "  .option(\"recursiveFileLookup\", \"true\") \\\n",
    "  .load(PATH_Data)"
   ]
  },
  {
   "cell_type": "code",
   "execution_count": 13,
   "id": "3f0a8b7d",
   "metadata": {},
   "outputs": [
    {
     "name": "stdout",
     "output_type": "stream",
     "text": [
      "+--------------------+--------------------+------+--------------------+\n",
      "|                path|    modificationTime|length|             content|\n",
      "+--------------------+--------------------+------+--------------------+\n",
      "|file:/C:/Users/Er...|2023-08-05 17:27:...|  7301|[FF D8 FF E0 00 1...|\n",
      "|file:/C:/Users/Er...|2023-08-05 17:27:...|  7059|[FF D8 FF E0 00 1...|\n",
      "|file:/C:/Users/Er...|2023-08-05 17:27:...|  7020|[FF D8 FF E0 00 1...|\n",
      "|file:/C:/Users/Er...|2023-08-05 17:27:...|  6697|[FF D8 FF E0 00 1...|\n",
      "|file:/C:/Users/Er...|2023-08-05 17:27:...|  6617|[FF D8 FF E0 00 1...|\n",
      "+--------------------+--------------------+------+--------------------+\n",
      "only showing top 5 rows\n",
      "\n"
     ]
    }
   ],
   "source": [
    "images.show(5)"
   ]
  },
  {
   "cell_type": "code",
   "execution_count": 14,
   "id": "8293055b",
   "metadata": {},
   "outputs": [
    {
     "name": "stdout",
     "output_type": "stream",
     "text": [
      "root\n",
      " |-- path: string (nullable = true)\n",
      " |-- modificationTime: timestamp (nullable = true)\n",
      " |-- length: long (nullable = true)\n",
      " |-- content: binary (nullable = true)\n",
      " |-- label: string (nullable = true)\n",
      "\n",
      "None\n",
      "+----------------------------------------------------------------------------+--------------+\n",
      "|path                                                                        |label         |\n",
      "+----------------------------------------------------------------------------+--------------+\n",
      "|file:/C:/Users/Eric/P8_Mode_opératoire/data/Test1/Watermelon/r_79_100.jpg   |Watermelon    |\n",
      "|file:/C:/Users/Eric/P8_Mode_opératoire/data/Test1/Pineapple Mini/314_100.jpg|Pineapple Mini|\n",
      "|file:/C:/Users/Eric/P8_Mode_opératoire/data/Test1/Pineapple Mini/307_100.jpg|Pineapple Mini|\n",
      "|file:/C:/Users/Eric/P8_Mode_opératoire/data/Test1/Raspberry/213_100.jpg     |Raspberry     |\n",
      "|file:/C:/Users/Eric/P8_Mode_opératoire/data/Test1/Raspberry/87_100.jpg      |Raspberry     |\n",
      "+----------------------------------------------------------------------------+--------------+\n",
      "only showing top 5 rows\n",
      "\n",
      "None\n"
     ]
    }
   ],
   "source": [
    "images = images.withColumn('label', element_at(split(images['path'], '/'),-2))\n",
    "print(images.printSchema())\n",
    "print(images.select('path','label').show(5,False))"
   ]
  },
  {
   "cell_type": "code",
   "execution_count": 17,
   "id": "b1935c97",
   "metadata": {},
   "outputs": [],
   "source": [
    "model = MobileNetV2(weights='imagenet',\n",
    "                    include_top=True,\n",
    "                    input_shape=(224, 224, 3))\n",
    "\n",
    "new_model = Model(inputs=model.input,\n",
    "                  outputs=model.layers[-2].output)\n",
    "\n",
    "brodcast_weights = sc.broadcast(new_model.get_weights())"
   ]
  },
  {
   "cell_type": "code",
   "execution_count": 18,
   "id": "debf1acb",
   "metadata": {},
   "outputs": [
    {
     "name": "stderr",
     "output_type": "stream",
     "text": [
      "C:\\Users\\Eric\\anaconda3\\lib\\site-packages\\pyspark\\sql\\pandas\\functions.py:399: UserWarning: In Python 3.6+ and Spark 3.0+, it is preferred to specify type hints for pandas UDF instead of specifying pandas UDF type which will be deprecated in the future releases. See SPARK-28264 for more details.\n",
      "  warnings.warn(\n"
     ]
    }
   ],
   "source": [
    "def model_fn():\n",
    "    \"\"\"\n",
    "    Returns a MobileNetV2 model with top layer removed \n",
    "    and broadcasted pretrained weights.\n",
    "    \"\"\"\n",
    "    model = MobileNetV2(weights='imagenet',\n",
    "                        include_top=True,\n",
    "                        input_shape=(224, 224, 3))\n",
    "    for layer in model.layers:\n",
    "        layer.trainable = False\n",
    "    new_model = Model(inputs=model.input,\n",
    "                  outputs=model.layers[-2].output)\n",
    "    new_model.set_weights(brodcast_weights.value)\n",
    "    return new_model\n",
    "\n",
    "def preprocess(content):\n",
    "    \"\"\"\n",
    "    Preprocesses raw image bytes for prediction.\n",
    "    \"\"\"\n",
    "    img = Image.open(io.BytesIO(content)).resize([224, 224])\n",
    "    arr = img_to_array(img)\n",
    "    return preprocess_input(arr)\n",
    "\n",
    "def featurize_series(model, content_series):\n",
    "    \"\"\"\n",
    "    Featurize a pd.Series of raw images using the input model.\n",
    "    :return: a pd.Series of image features\n",
    "    \"\"\"\n",
    "    input = np.stack(content_series.map(preprocess))\n",
    "    preds = model.predict(input)\n",
    "    # For some layers, output features will be multi-dimensional tensors.\n",
    "    # We flatten the feature tensors to vectors for easier storage in Spark DataFrames.\n",
    "    output = [p.flatten() for p in preds]\n",
    "    return pd.Series(output)\n",
    "\n",
    "@pandas_udf('array<float>', PandasUDFType.SCALAR_ITER)\n",
    "def featurize_udf(content_series_iter):\n",
    "    '''\n",
    "    This method is a Scalar Iterator pandas UDF wrapping our featurization function.\n",
    "    The decorator specifies that this returns a Spark DataFrame column of type ArrayType(FloatType).\n",
    "\n",
    "    :param content_series_iter: This argument is an iterator over batches of data, where each batch\n",
    "                              is a pandas Series of image data.\n",
    "    '''\n",
    "    # With Scalar Iterator pandas UDFs, we can load the model once and then re-use it\n",
    "    # for multiple data batches.  This amortizes the overhead of loading big models.\n",
    "    model = model_fn()\n",
    "    for content_series in content_series_iter:\n",
    "        yield featurize_series(model, content_series)"
   ]
  },
  {
   "cell_type": "code",
   "execution_count": 111,
   "id": "8424c9b9",
   "metadata": {},
   "outputs": [],
   "source": [
    "features_df = images.repartition(24).select(col(\"path\"),\n",
    "                                            col(\"label\"),\n",
    "                                            featurize_udf(\"content\").alias(\"features\")\n",
    "                                           )"
   ]
  },
  {
   "cell_type": "code",
   "execution_count": 112,
   "id": "9ec8cafe",
   "metadata": {},
   "outputs": [],
   "source": [
    "from pyspark.ml.functions import array_to_vector\n",
    "features_df = features_df.repartition(24).select(col(\"path\"),\n",
    "                                                 col(\"label\"),\n",
    "                                                 array_to_vector('features').alias('features_vect')\n",
    "                                                )"
   ]
  },
  {
   "cell_type": "code",
   "execution_count": 113,
   "id": "c599d44b",
   "metadata": {},
   "outputs": [],
   "source": [
    "from pyspark.ml.feature import PCA\n",
    "pca = PCA(k=131, inputCol = 'features_vect', outputCol = 'feature_after')\n",
    "model = pca.fit(features_df)\n"
   ]
  },
  {
   "cell_type": "code",
   "execution_count": 114,
   "id": "05913d1a",
   "metadata": {},
   "outputs": [
    {
     "name": "stdout",
     "output_type": "stream",
     "text": [
      "+--------------------+------------------+--------------------+\n",
      "|                path|             label|       feature_after|\n",
      "+--------------------+------------------+--------------------+\n",
      "|file:/C:/Users/Er...|     Grape White 2|[8.93691537966879...|\n",
      "|file:/C:/Users/Er...|          Rambutan|[0.94450518650013...|\n",
      "|file:/C:/Users/Er...|        Banana Red|[-2.8921651253487...|\n",
      "|file:/C:/Users/Er...|Apple Granny Smith|[-0.0203008172038...|\n",
      "|file:/C:/Users/Er...|     Grape White 2|[8.24978534437250...|\n",
      "|file:/C:/Users/Er...|    Cherry Wax Red|[19.8004808999485...|\n",
      "|file:/C:/Users/Er...|     Tomato Yellow|[5.58895754054543...|\n",
      "|file:/C:/Users/Er...|     Grape White 4|[7.74074968465153...|\n",
      "|file:/C:/Users/Er...|           Peach 2|[6.20181304549740...|\n",
      "|file:/C:/Users/Er...|          Tomato 1|[11.4574803276338...|\n",
      "|file:/C:/Users/Er...|         Blueberry|[9.67646039602263...|\n",
      "|file:/C:/Users/Er...|        Grape Pink|[8.61654656906765...|\n",
      "|file:/C:/Users/Er...|       Huckleberry|[8.44628093878697...|\n",
      "|file:/C:/Users/Er...|           Peach 2|[4.40940342844071...|\n",
      "|file:/C:/Users/Er...|           Peach 2|[3.75946888791009...|\n",
      "|file:/C:/Users/Er...|        Redcurrant|[16.2582239351345...|\n",
      "|file:/C:/Users/Er...|               Fig|[9.53766778047967...|\n",
      "|file:/C:/Users/Er...|           Apricot|[6.05905159565325...|\n",
      "|file:/C:/Users/Er...|              Corn|[-2.4064250427928...|\n",
      "|file:/C:/Users/Er...|        Nut Forest|[4.97127233032931...|\n",
      "+--------------------+------------------+--------------------+\n",
      "only showing top 20 rows\n",
      "\n"
     ]
    }
   ],
   "source": [
    "features_df = model.transform(features_df)\n",
    "features_df = features_df.repartition(24).select(col(\"path\"),\n",
    "                                                 col(\"label\"),\n",
    "                                                 col('feature_after')\n",
    "                                                )\n",
    "features_df.show()"
   ]
  },
  {
   "cell_type": "code",
   "execution_count": 120,
   "id": "f12e06a8",
   "metadata": {},
   "outputs": [],
   "source": [
    "from pyspark.ml.functions import vector_to_array\n",
    "\n",
    "features_df = features_df.repartition(24).select(col(\"path\"),\n",
    "                                                 col(\"label\"),\n",
    "                                                 vector_to_array('feature_after').alias('features_PCA')\n",
    "                                                )"
   ]
  },
  {
   "cell_type": "code",
   "execution_count": 122,
   "id": "0fbd9f15",
   "metadata": {},
   "outputs": [],
   "source": [
    "features_df.write.mode(\"overwrite\").parquet(PATH_Result)"
   ]
  },
  {
   "cell_type": "code",
   "execution_count": 123,
   "id": "ea6aa4c8",
   "metadata": {},
   "outputs": [
    {
     "data": {
      "text/html": [
       "<div>\n",
       "<style scoped>\n",
       "    .dataframe tbody tr th:only-of-type {\n",
       "        vertical-align: middle;\n",
       "    }\n",
       "\n",
       "    .dataframe tbody tr th {\n",
       "        vertical-align: top;\n",
       "    }\n",
       "\n",
       "    .dataframe thead th {\n",
       "        text-align: right;\n",
       "    }\n",
       "</style>\n",
       "<table border=\"1\" class=\"dataframe\">\n",
       "  <thead>\n",
       "    <tr style=\"text-align: right;\">\n",
       "      <th></th>\n",
       "      <th>path</th>\n",
       "      <th>label</th>\n",
       "      <th>features_PCA</th>\n",
       "    </tr>\n",
       "  </thead>\n",
       "  <tbody>\n",
       "    <tr>\n",
       "      <th>0</th>\n",
       "      <td>file:/C:/Users/Eric/P8_Mode_opératoire/data/Te...</td>\n",
       "      <td>Grape White 2</td>\n",
       "      <td>[8.936915379668793, -9.260633234679819, -3.346...</td>\n",
       "    </tr>\n",
       "    <tr>\n",
       "      <th>1</th>\n",
       "      <td>file:/C:/Users/Eric/P8_Mode_opératoire/data/Te...</td>\n",
       "      <td>Rambutan</td>\n",
       "      <td>[0.9445051865001396, 9.92379554517056, -5.2737...</td>\n",
       "    </tr>\n",
       "    <tr>\n",
       "      <th>2</th>\n",
       "      <td>file:/C:/Users/Eric/P8_Mode_opératoire/data/Te...</td>\n",
       "      <td>Banana Red</td>\n",
       "      <td>[-2.8921651253487357, 6.948151641980749, 4.136...</td>\n",
       "    </tr>\n",
       "    <tr>\n",
       "      <th>3</th>\n",
       "      <td>file:/C:/Users/Eric/P8_Mode_opératoire/data/Te...</td>\n",
       "      <td>Apple Granny Smith</td>\n",
       "      <td>[-0.02030081720382543, -2.9483597756321824, -3...</td>\n",
       "    </tr>\n",
       "    <tr>\n",
       "      <th>4</th>\n",
       "      <td>file:/C:/Users/Eric/P8_Mode_opératoire/data/Te...</td>\n",
       "      <td>Grape White 2</td>\n",
       "      <td>[8.249785344372508, -9.30670781430237, -3.3028...</td>\n",
       "    </tr>\n",
       "  </tbody>\n",
       "</table>\n",
       "</div>"
      ],
      "text/plain": [
       "                                                path               label  \\\n",
       "0  file:/C:/Users/Eric/P8_Mode_opératoire/data/Te...       Grape White 2   \n",
       "1  file:/C:/Users/Eric/P8_Mode_opératoire/data/Te...            Rambutan   \n",
       "2  file:/C:/Users/Eric/P8_Mode_opératoire/data/Te...          Banana Red   \n",
       "3  file:/C:/Users/Eric/P8_Mode_opératoire/data/Te...  Apple Granny Smith   \n",
       "4  file:/C:/Users/Eric/P8_Mode_opératoire/data/Te...       Grape White 2   \n",
       "\n",
       "                                        features_PCA  \n",
       "0  [8.936915379668793, -9.260633234679819, -3.346...  \n",
       "1  [0.9445051865001396, 9.92379554517056, -5.2737...  \n",
       "2  [-2.8921651253487357, 6.948151641980749, 4.136...  \n",
       "3  [-0.02030081720382543, -2.9483597756321824, -3...  \n",
       "4  [8.249785344372508, -9.30670781430237, -3.3028...  "
      ]
     },
     "execution_count": 123,
     "metadata": {},
     "output_type": "execute_result"
    }
   ],
   "source": [
    "df = pd.read_parquet(PATH_Result, engine='pyarrow')\n",
    "df.head()"
   ]
  },
  {
   "cell_type": "code",
   "execution_count": 125,
   "id": "729386d9",
   "metadata": {},
   "outputs": [
    {
     "data": {
      "text/plain": [
       "(131,)"
      ]
     },
     "execution_count": 125,
     "metadata": {},
     "output_type": "execute_result"
    }
   ],
   "source": [
    "df['features_PCA'][0].shape"
   ]
  },
  {
   "cell_type": "code",
   "execution_count": null,
   "id": "42699b81",
   "metadata": {},
   "outputs": [],
   "source": [
    "df.to_csv(PATH_Result+\"/featuring_with_PCA.csv\")"
   ]
  }
 ],
 "metadata": {
  "kernelspec": {
   "display_name": "Python 3 (ipykernel)",
   "language": "python",
   "name": "python3"
  },
  "language_info": {
   "codemirror_mode": {
    "name": "ipython",
    "version": 3
   },
   "file_extension": ".py",
   "mimetype": "text/x-python",
   "name": "python",
   "nbconvert_exporter": "python",
   "pygments_lexer": "ipython3",
   "version": "3.9.13"
  }
 },
 "nbformat": 4,
 "nbformat_minor": 5
}
